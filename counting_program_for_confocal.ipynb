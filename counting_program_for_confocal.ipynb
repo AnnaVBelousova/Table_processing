{
 "cells": [
  {
   "cell_type": "code",
   "execution_count": 1,
   "metadata": {},
   "outputs": [],
   "source": [
    "import pandas as pd # извлекаем панду  \n",
    "import os # для работы с файлами\n",
    "import re # для регулярных выражений\n",
    "import seaborn as sns # для таблиц\n",
    "from statannotations.Annotator import Annotator # считает достоверности\n",
    "import matplotlib.pyplot as plt #для дизайна графиков\n",
    "from itertools import combinations\n",
    "import pandas as pd # извлекаем панду  \n",
    "import os # для работы с файлами\n",
    "import re # для регулярных выражений\n",
    "import seaborn as sns # для таблиц\n",
    "from statannotations.Annotator import Annotator # считает достоверности\n",
    "import matplotlib.pyplot as plt #для дизайна графиков\n",
    "from itertools import combinations\n",
    "import javabridge\n",
    "import bioformats\n",
    "import numpy as np\n",
    "import matplotlib.pyplot as plt"
   ]
  },
  {
   "cell_type": "code",
   "execution_count": 2,
   "metadata": {},
   "outputs": [],
   "source": [
    "path_dir = \"C:\\\\Users\\\\Arteys\\\\Desktop\\\\Anya_work\\\\Insulin_Alexa_488_Glucagon_TexasRed\" # ссылка на самую верхнюю папку\n",
    "#Эта часть кода выводит название группы и образца из ссылки на таблицу\n",
    "def path_to_group_name(dir_adress): # ссылка на таблицу\n",
    "    index_list = []\n",
    "    # print(dir_adress)\n",
    "    for index,value in enumerate(dir_adress): # проходим все символы в ссылке\n",
    "        if value == \"/\":\n",
    "            index_list.append(index)\n",
    "    \n",
    "    index_group_start,index_group_end = index_list[-3],index_list[-2] # вручную смотрим на индексы и вписываем\n",
    "    index_sample_start,index_sample_end = index_list[-2],index_list[-1] #\n",
    "\n",
    "    group_name = dir_adress[index_group_start+1:index_group_end] # выводим символы  между слешами из ссылки\n",
    "    sample_name = dir_adress[index_sample_start+1:index_sample_end] # \n",
    "    return group_name,sample_name "
   ]
  },
  {
   "cell_type": "code",
   "execution_count": 3,
   "metadata": {},
   "outputs": [],
   "source": [
    "#для одного образца создается таблица с нужными колонками \n",
    "def Get_data (correct_path,group_name,sample_name):\n",
    "    islet_data_df_i = pd.read_csv(correct_path, encoding='cp1251') # читает csv как таблицу\n",
    "    data_i = islet_data_df_i[['ImageNumber','AreaShape_Area', 'Children_Islet_nucleus_Count','Children_Object_Glucagon_wo_double_stain_Count',\n",
    "                              'Children_Object_Insulin_Glucagon_Nuclei_Count',\n",
    "                              'Children_Object_Insulin_wo_double_stain_Count']].copy() # берем  колонки из большой таблицы\n",
    "    data_i['Group'] = group_name # добавили к колонкам data_i колонку \"группа\" и заполнили данными(название группы) \n",
    "    data_i['Sample'] = sample_name\n",
    "   \n",
    "    return(data_i)"
   ]
  },
  {
   "cell_type": "code",
   "execution_count": 4,
   "metadata": {},
   "outputs": [],
   "source": [
    "#обрабатываем другую таблицу\n",
    "def Get_data_2 (correct_path,group_name,sample_name):\n",
    "    islet_data_df_i = pd.read_csv(correct_path, encoding='cp1251') # читает csv как таблицу\n",
    "    data_i = islet_data_df_i[['ImageNumber','URL_Image']].copy() # берем  колонки из большой таблицы\n",
    "    data_i['Group'] = group_name # добавили к колонкам data_i колонку \"группа\" и заполнили данными(название группы) \n",
    "    data_i['Sample'] = sample_name\n",
    "   \n",
    "    return(data_i)"
   ]
  },
  {
   "cell_type": "code",
   "execution_count": 5,
   "metadata": {},
   "outputs": [],
   "source": [
    "empty_data = {'ImageNumber':[], 'AreaShape_Area':[], 'Children_Islet_nucleus_Count':[], 'Children_Object_Glucagon_wo_double_stain_Count':[], \n",
    "              'Children_Object_Insulin_Glucagon_Nuclei_Count' :[], 'Children_Object_Insulin_wo_double_stain_Count' :[],'Group':[],'Sample':[]} # это словарь. Заголовок и содержание\n",
    "Number_of_nucleus_df = pd.DataFrame(empty_data) # из словаря сделали таблицу. пустая \n",
    "\n",
    "empty_data_2 = {'ImageNumber':[],'URL_Image':[],'Group':[],'Sample':[]} # это словарь. Заголовок и содержание\n",
    "Number_of_nucleus_df_2 = pd.DataFrame(empty_data_2) # из словаря сделали таблицу. пустая \n"
   ]
  },
  {
   "cell_type": "code",
   "execution_count": 6,
   "metadata": {},
   "outputs": [],
   "source": [
    "#Берем нужный файл, применяем к нему функцию, которая делает таблицу с данными и добавляем эти данные в большую таблицу\n",
    "for address, dirs, files in os.walk(path_dir): # выдает строку с адресом последней папки(address), название всех папок(dirs), название файлов\n",
    "    for file in files:\n",
    "        if \".csv\" in str(file):\n",
    "            full_path = os.path.join(address, file) # добавляет файл к адресу\n",
    "            correct_path = full_path.replace(\"\\\\\",\"/\")\n",
    "            group_name,sample_name = path_to_group_name(correct_path)\n",
    "\n",
    "\n",
    "            if \"MyExpt_Islets\" in str(file):\n",
    "                # print(group_name,sample_name)\n",
    "                Result = Get_data(correct_path,group_name,sample_name)# из таблицы MyExpt_Islet вытаскиваем нужные данные для каждого образца \n",
    "                \n",
    "                Number_of_nucleus_df = pd.concat([Number_of_nucleus_df,Result],axis=0) # добавляем данные для каждого образца в общую пустую таблицу\n",
    "        \n",
    "            if \"MyExpt_Image\" in str(file):\n",
    "                # print(group_name,sample_name)\n",
    "                Result = Get_data_2(correct_path,group_name,sample_name)# из таблицы MyExpt_Image вытаскиваем нужные данные для каждого образца \n",
    "                \n",
    "                Number_of_nucleus_df_2 = pd.concat([Number_of_nucleus_df_2,Result],axis=0) # добавляем данные для каждого образца в общую пустую таблицу     "
   ]
  },
  {
   "cell_type": "code",
   "execution_count": 7,
   "metadata": {},
   "outputs": [
    {
     "name": "stderr",
     "output_type": "stream",
     "text": [
      "C:\\Users\\Arteys\\AppData\\Local\\Temp\\ipykernel_5820\\542594557.py:31: SettingWithCopyWarning: \n",
      "A value is trying to be set on a copy of a slice from a DataFrame\n",
      "\n",
      "See the caveats in the documentation: https://pandas.pydata.org/pandas-docs/stable/user_guide/indexing.html#returning-a-view-versus-a-copy\n",
      "  merged_table['URL_Image'][i] = unquote(merged_table['URL_Image'][i].replace('/', '\\\\'))\n"
     ]
    },
    {
     "name": "stdout",
     "output_type": "stream",
     "text": [
      "     ImageNumber    Area,px  Nucleus_all  Glucagon  Insulin_Glucagon  Insulin  \\\n",
      "0            1.0  1015074.0       1145.0     144.0             229.0    910.0   \n",
      "1            2.0   297027.0        279.0      46.0              49.0    221.0   \n",
      "2            3.0   622050.0        776.0      86.0             133.0    512.0   \n",
      "3            4.0   199684.0        241.0      48.0              57.0    186.0   \n",
      "4            5.0   156537.0        223.0      44.0              89.0    147.0   \n",
      "..           ...        ...          ...       ...               ...      ...   \n",
      "151         11.0    89191.0         50.0       3.0               0.0     37.0   \n",
      "152          1.0    13845.0         12.0       3.0               3.0      7.0   \n",
      "153          2.0    26803.0         28.0       9.0               8.0     17.0   \n",
      "154          3.0    17155.0         20.0      14.0               2.0      2.0   \n",
      "155          4.0    82672.0        130.0      54.0              54.0     72.0   \n",
      "\n",
      "       Group Sample                                          URL_Image  \\\n",
      "0    30_days      2  C:\\Users\\Arteys\\Desktop\\Anya_work\\Insulin_Alex...   \n",
      "1    30_days      2  C:\\Users\\Arteys\\Desktop\\Anya_work\\Insulin_Alex...   \n",
      "2    30_days      2  C:\\Users\\Arteys\\Desktop\\Anya_work\\Insulin_Alex...   \n",
      "3    30_days      2  C:\\Users\\Arteys\\Desktop\\Anya_work\\Insulin_Alex...   \n",
      "4    30_days      2  C:\\Users\\Arteys\\Desktop\\Anya_work\\Insulin_Alex...   \n",
      "..       ...    ...                                                ...   \n",
      "151  STZ-AFG     14  C:\\Users\\Arteys\\Desktop\\Anya_work\\Insulin_Alex...   \n",
      "152  STZ-AFG     18  C:\\Users\\Arteys\\Desktop\\Anya_work\\Insulin_Alex...   \n",
      "153  STZ-AFG     18  C:\\Users\\Arteys\\Desktop\\Anya_work\\Insulin_Alex...   \n",
      "154  STZ-AFG     18  C:\\Users\\Arteys\\Desktop\\Anya_work\\Insulin_Alex...   \n",
      "155  STZ-AFG     18  C:\\Users\\Arteys\\Desktop\\Anya_work\\Insulin_Alex...   \n",
      "\n",
      "     size, micrometer  islet_sqwere  \\\n",
      "0            0.274946  76734.567447   \n",
      "1            0.274946  22453.770233   \n",
      "2            0.274946  47023.899421   \n",
      "3            0.345944  23897.644936   \n",
      "4            0.345944  18733.927833   \n",
      "..                ...           ...   \n",
      "151          0.177496   2809.960118   \n",
      "152          0.345944   1656.932424   \n",
      "153          0.345944   3207.711070   \n",
      "154          0.345944   2053.064336   \n",
      "155          0.345944   9893.962972   \n",
      "\n",
      "     Insulin_Glucagon cells per islet square, cells/um^2  \\\n",
      "0                                             0.002984     \n",
      "1                                             0.002182     \n",
      "2                                             0.002828     \n",
      "3                                             0.002385     \n",
      "4                                             0.004751     \n",
      "..                                                 ...     \n",
      "151                                           0.000000     \n",
      "152                                           0.001811     \n",
      "153                                           0.002494     \n",
      "154                                           0.000974     \n",
      "155                                           0.005458     \n",
      "\n",
      "     Insulin cells per islet square, cells/um^2  \\\n",
      "0                                      0.011859   \n",
      "1                                      0.009842   \n",
      "2                                      0.010888   \n",
      "3                                      0.007783   \n",
      "4                                      0.007847   \n",
      "..                                          ...   \n",
      "151                                    0.013167   \n",
      "152                                    0.004225   \n",
      "153                                    0.005300   \n",
      "154                                    0.000974   \n",
      "155                                    0.007277   \n",
      "\n",
      "     Glucagon cells per islet square,cells/um^2  Cellularity, cells/um^2  \n",
      "0                                      0.001877                 0.014922  \n",
      "1                                      0.002049                 0.012426  \n",
      "2                                      0.001829                 0.016502  \n",
      "3                                      0.002009                 0.010085  \n",
      "4                                      0.002349                 0.011904  \n",
      "..                                          ...                      ...  \n",
      "151                                    0.001068                 0.017794  \n",
      "152                                    0.001811                 0.007242  \n",
      "153                                    0.002806                 0.008729  \n",
      "154                                    0.006819                 0.009742  \n",
      "155                                    0.005458                 0.013139  \n",
      "\n",
      "[156 rows x 15 columns]\n"
     ]
    }
   ],
   "source": [
    "Number_of_nucleus_df = Number_of_nucleus_df.rename(columns={'AreaShape_Area':'Area,px','Children_Islet_nucleus_Count':'Nucleus_all',\n",
    "                                                             'Children_Object_Glucagon_wo_double_stain_Count':'Glucagon',  \n",
    "                                                             'Children_Object_Insulin_Glucagon_Nuclei_Count': 'Insulin_Glucagon',\n",
    "                                                              'Children_Object_Insulin_wo_double_stain_Count':'Insulin' })\n",
    "\n",
    "\n",
    "# Number_of_nucleus_df['Glucagon_part'] = Number_of_nucleus_df['Glucagon'] / Number_of_nucleus_df['Nucleus_all'] *100\n",
    "# Number_of_nucleus_df['Insulin_part'] = Number_of_nucleus_df['Insulin'] / Number_of_nucleus_df['Nucleus_all'] *100\n",
    "# Number_of_nucleus_df['Insulin_Glucagon_part'] = Number_of_nucleus_df['Insulin_Glucagon'] / Number_of_nucleus_df['Nucleus_all'] *100\n",
    "\n",
    "#print(Number_of_nucleus_df, Number_of_nucleus_df_2)\n",
    "\n",
    "#Соединяем таблицы по общим столбцам\n",
    "Number_of_nucleus_df_2['URL_Image'] = Number_of_nucleus_df_2['URL_Image'].str.replace('file:///', '') #для того, чтобы значения в столбцах двух таблиц были одинаковыми\n",
    "\n",
    "merged_table = pd.merge(Number_of_nucleus_df, Number_of_nucleus_df_2, on=['ImageNumber', 'Group', 'Sample'])\n",
    "\n",
    "micrometers = pd.read_csv('C:\\\\Users\\\\Arteys\\\\Desktop\\\\Anya_work\\\\micrometers.csv')\n",
    "\n",
    "# переименование столбца\n",
    "micrometers = micrometers.rename(columns={'PathName_Image': 'URL_Image'})\n",
    "\n",
    "# сохранение измененной таблицы \n",
    "micrometers.to_csv('C:\\\\Users\\\\Arteys\\\\Desktop\\\\Anya_work\\\\micrometers.csv', index=False)\n",
    "micrometers.to_excel('C:\\\\Users\\\\Arteys\\\\Desktop\\\\Anya_work\\\\micrometers.xlsx', index=False)\n",
    "\n",
    "#делаем одинаковые значения в столбце с адресом, по которому объединяем две таблицы\n",
    "from urllib.parse import unquote\n",
    "\n",
    "for i in range(len(merged_table)):\n",
    "    merged_table['URL_Image'][i] = unquote(merged_table['URL_Image'][i].replace('/', '\\\\'))\n",
    "    #print(merged_table['URL_Image'][i])\n",
    "merged_table.to_excel('C:\\\\Users\\\\Arteys\\\\Desktop\\\\Anya_work\\\\merged_table.xlsx', index = False)          \n",
    "#merged_table.to_excel('C:\\\\Users\\\\Arteys\\\\Desktop\\\\Anya_work\\\\merged_table.xlsx', index=False)\n",
    "total_t = pd.merge(merged_table, micrometers[['URL_Image', 'size, micrometer']], on='URL_Image', how='left')\n",
    "\n",
    "\n",
    "#вычисляем нужные параметры\n",
    "total_t['islet_sqwere'] = total_t['Area,px']*total_t['size, micrometer']*total_t['size, micrometer']\n",
    "total_t['Insulin_Glucagon cells per islet square, cells/um^2'] = total_t['Insulin_Glucagon']/total_t['islet_sqwere']\n",
    "total_t['Insulin cells per islet square, cells/um^2'] = total_t['Insulin']/total_t['islet_sqwere']\n",
    "total_t['Glucagon cells per islet square,cells/um^2'] = total_t['Glucagon']/total_t['islet_sqwere']\n",
    "total_t['Cellularity, cells/um^2'] = total_t['Nucleus_all']/total_t['islet_sqwere']\n",
    "print(total_t)\n",
    "total_t.to_excel('C:\\\\Users\\\\Arteys\\\\Desktop\\\\Anya_work\\\\таблица с микрометрами3.xlsx', index=False)"
   ]
  },
  {
   "cell_type": "code",
   "execution_count": 8,
   "metadata": {},
   "outputs": [
    {
     "name": "stdout",
     "output_type": "stream",
     "text": [
      "p-value annotation legend:\n",
      "      ns: p <= 1.00e+00\n",
      "       *: 1.00e-02 < p <= 5.00e-02\n",
      "      **: 1.00e-03 < p <= 1.00e-02\n",
      "     ***: 1.00e-04 < p <= 1.00e-03\n",
      "    ****: p <= 1.00e-04\n",
      "\n",
      "30_days vs. 60_days: Kruskal-Wallis independent samples (pairwise between groups), P_val:7.246e-01 Stat=1.241e-01\n",
      "60_days vs. Intact: Kruskal-Wallis independent samples (pairwise between groups), P_val:1.355e-02 Stat=6.095e+00\n",
      "Intact vs. STZ-AFG: Kruskal-Wallis independent samples (pairwise between groups), P_val:5.714e-03 Stat=7.638e+00\n",
      "30_days vs. Intact: Kruskal-Wallis independent samples (pairwise between groups), P_val:9.430e-03 Stat=6.740e+00\n",
      "60_days vs. STZ-AFG: Kruskal-Wallis independent samples (pairwise between groups), P_val:7.449e-01 Stat=1.059e-01\n",
      "30_days vs. STZ-AFG: Kruskal-Wallis independent samples (pairwise between groups), P_val:8.453e-01 Stat=3.807e-02\n",
      "p-value annotation legend:\n",
      "      ns: p <= 1.00e+00\n",
      "       *: 1.00e-02 < p <= 5.00e-02\n",
      "      **: 1.00e-03 < p <= 1.00e-02\n",
      "     ***: 1.00e-04 < p <= 1.00e-03\n",
      "    ****: p <= 1.00e-04\n",
      "\n",
      "30_days vs. 60_days: Kruskal-Wallis independent samples (pairwise between groups), P_val:3.867e-02 Stat=4.275e+00\n",
      "60_days vs. Intact: Kruskal-Wallis independent samples (pairwise between groups), P_val:2.330e-02 Stat=5.146e+00\n",
      "Intact vs. STZ-AFG: Kruskal-Wallis independent samples (pairwise between groups), P_val:6.279e-01 Stat=2.349e-01\n",
      "30_days vs. Intact: Kruskal-Wallis independent samples (pairwise between groups), P_val:6.833e-01 Stat=1.664e-01\n",
      "60_days vs. STZ-AFG: Kruskal-Wallis independent samples (pairwise between groups), P_val:5.578e-03 Stat=7.682e+00\n",
      "30_days vs. STZ-AFG: Kruskal-Wallis independent samples (pairwise between groups), P_val:4.457e-01 Stat=5.816e-01\n",
      "p-value annotation legend:\n",
      "      ns: p <= 1.00e+00\n",
      "       *: 1.00e-02 < p <= 5.00e-02\n",
      "      **: 1.00e-03 < p <= 1.00e-02\n",
      "     ***: 1.00e-04 < p <= 1.00e-03\n",
      "    ****: p <= 1.00e-04\n",
      "\n",
      "30_days vs. 60_days: Kruskal-Wallis independent samples (pairwise between groups), P_val:5.919e-01 Stat=2.874e-01\n",
      "60_days vs. Intact: Kruskal-Wallis independent samples (pairwise between groups), P_val:3.318e-03 Stat=8.624e+00\n",
      "Intact vs. STZ-AFG: Kruskal-Wallis independent samples (pairwise between groups), P_val:3.150e-05 Stat=1.733e+01\n",
      "30_days vs. Intact: Kruskal-Wallis independent samples (pairwise between groups), P_val:6.423e-05 Stat=1.597e+01\n",
      "60_days vs. STZ-AFG: Kruskal-Wallis independent samples (pairwise between groups), P_val:5.997e-01 Stat=2.754e-01\n",
      "30_days vs. STZ-AFG: Kruskal-Wallis independent samples (pairwise between groups), P_val:2.442e-01 Stat=1.356e+00\n",
      "p-value annotation legend:\n",
      "      ns: p <= 1.00e+00\n",
      "       *: 1.00e-02 < p <= 5.00e-02\n",
      "      **: 1.00e-03 < p <= 1.00e-02\n",
      "     ***: 1.00e-04 < p <= 1.00e-03\n",
      "    ****: p <= 1.00e-04\n",
      "\n",
      "30_days vs. 60_days: Kruskal-Wallis independent samples (pairwise between groups), P_val:2.637e-02 Stat=4.932e+00\n",
      "60_days vs. Intact: Kruskal-Wallis independent samples (pairwise between groups), P_val:1.809e-02 Stat=5.588e+00\n",
      "Intact vs. STZ-AFG: Kruskal-Wallis independent samples (pairwise between groups), P_val:6.522e-02 Stat=3.400e+00\n",
      "30_days vs. Intact: Kruskal-Wallis independent samples (pairwise between groups), P_val:5.988e-01 Stat=2.768e-01\n",
      "60_days vs. STZ-AFG: Kruskal-Wallis independent samples (pairwise between groups), P_val:9.494e-06 Stat=1.961e+01\n",
      "30_days vs. STZ-AFG: Kruskal-Wallis independent samples (pairwise between groups), P_val:6.197e-03 Stat=7.492e+00\n"
     ]
    },
    {
     "data": {
      "image/png": "[encoded data removed]",
      "text/plain": [
       "<Figure size 432x288 with 1 Axes>"
      ]
     },
     "metadata": {
      "needs_background": "light"
     },
     "output_type": "display_data"
    },
    {
     "data": {
      "image/png": "[encoded data removed]",
      "text/plain": [
       "<Figure size 432x288 with 1 Axes>"
      ]
     },
     "metadata": {
      "needs_background": "light"
     },
     "output_type": "display_data"
    },
    {
     "data": {
      "image/png": "[encoded data removed]",
      "text/plain": [
       "<Figure size 432x288 with 1 Axes>"
      ]
     },
     "metadata": {
      "needs_background": "light"
     },
     "output_type": "display_data"
    },
    {
     "data": {
      "image/png": "[encoded data removed]",
      "text/plain": [
       "<Figure size 432x288 with 1 Axes>"
      ]
     },
     "metadata": {
      "needs_background": "light"
     },
     "output_type": "display_data"
    }
   ],
   "source": [
    "#Статистика\n",
    "unique_group= Number_of_nucleus_df['Group'].unique() # достаем уникальные названия групп. unique() выдает список\n",
    "pairs_1 = []\n",
    "# print(unique_group)\n",
    "\n",
    "for group1, group2 in combinations(unique_group, 2):\n",
    "    pairs_1.append(((group1),(group2)))\n",
    "    # print(pairs_1)\n",
    "\n",
    "def function_statistic(data, column):\n",
    "    fig, axs = plt.subplots()\n",
    "    sns.barplot(data = data, x = 'Group', y = column, order = [\"Intact\",\"30_days\",\"60_days\",\"STZ-AFG\"])\n",
    "\n",
    "    annotator = Annotator(axs, pairs_1, data=data, x = 'Group', y = column)\n",
    "    annotator.configure(test='Kruskal', text_format='star', loc='inside', comparisons_correction=None)\n",
    "\n",
    "    annotator.apply_and_annotate()\n",
    "\n",
    "# function_statistic(total_t,'Glucagon_part')\n",
    "# function_statistic(total_t,'Insulin_part')\n",
    "# function_statistic(total_t,'Insulin_Glucagon_part')\n",
    "# function_statistic(total_t,'Ins_Gluc_part_from_insulin')\n",
    "# function_statistic(total_t,'Ins_Gluc_part_from_glucagon')\n",
    "\n",
    "function_statistic(total_t,'Insulin_Glucagon cells per islet square, cells/um^2')\n",
    "function_statistic(total_t,'Insulin cells per islet square, cells/um^2')\n",
    "function_statistic(total_t,'Glucagon cells per islet square,cells/um^2')\n",
    "function_statistic(total_t,'Cellularity, cells/um^2')\n",
    "\n",
    "#plt.style.use('dark_background')\n",
    "plt.style.use('default')\n",
    "plt.rcParams['figure.facecolor'] = (1, 1, 1)\n",
    "\n",
    "#plt.savefig('myplot.png', transparent=False)\n",
    "plt.show()"
   ]
  },
  {
   "cell_type": "code",
   "execution_count": null,
   "metadata": {},
   "outputs": [],
   "source": []
  }
 ],
 "metadata": {
  "kernelspec": {
   "display_name": "Python 3",
   "language": "python",
   "name": "python3"
  },
  "language_info": {
   "codemirror_mode": {
    "name": "ipython",
    "version": 3
   },
   "file_extension": ".py",
   "mimetype": "text/x-python",
   "name": "python",
   "nbconvert_exporter": "python",
   "pygments_lexer": "ipython3",
   "version": "3.10.2"
  },
  "orig_nbformat": 4
 },
 "nbformat": 4,
 "nbformat_minor": 2
}
